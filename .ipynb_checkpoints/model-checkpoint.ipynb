{
 "cells": [
  {
   "cell_type": "code",
   "execution_count": 1,
   "id": "27d219e5-68ae-4ab7-a44d-782a2c4468bb",
   "metadata": {},
   "outputs": [],
   "source": [
    "import numpy as np \n",
    "import pandas as pd "
   ]
  },
  {
   "cell_type": "code",
   "execution_count": null,
   "id": "14f7c3c5-d68c-4e1d-a314-c65378ae93d4",
   "metadata": {},
   "outputs": [],
   "source": []
  },
  {
   "cell_type": "code",
   "execution_count": 2,
   "id": "9a7ac39a-b7c7-45f6-aa6e-4bbda9641a2a",
   "metadata": {},
   "outputs": [
    {
     "name": "stdout",
     "output_type": "stream",
     "text": [
      "Failed to read with encoding: utf-8\n",
      "File successfully read with encoding: latin1\n",
      "CSV file has been successfully loaded.\n"
     ]
    }
   ],
   "source": [
    "\n",
    "#list of possible encodings to try \n",
    "encodings = ['utf-8', 'latin1', 'ISO-8859-1', 'cp1252']\n",
    "\n",
    "file_path = 'spam.csv' # change this to the path of your csv file \n",
    "\n",
    "# Attempt to read the CSV file with different encodings \n",
    "for encoding in encodings:\n",
    "    try:\n",
    "        df = pd.read_csv(file_path, encoding=encoding)\n",
    "        print(f\"File successfully read with encoding: {encoding}\")\n",
    "        break #stop the loop\n",
    "    except UnicodeDecodeError:\n",
    "        print(f\"Failed to read with encoding: {encoding}\")\n",
    "        continue #try the next encoding \n",
    "\n",
    "# If the loop completes without success, df will not be defined\n",
    "if 'df' in locals():\n",
    "    print(\"CSV file has been successfully loaded.\")\n",
    "else: \n",
    "    print(\"All encoding attempts failed. unable to read CSV file.\")\n",
    "    "
   ]
  },
  {
   "cell_type": "code",
   "execution_count": 5,
   "id": "437a1998-97d5-4405-a6f9-4f0f6da93ad4",
   "metadata": {},
   "outputs": [
    {
     "data": {
      "text/html": [
       "<div>\n",
       "<style scoped>\n",
       "    .dataframe tbody tr th:only-of-type {\n",
       "        vertical-align: middle;\n",
       "    }\n",
       "\n",
       "    .dataframe tbody tr th {\n",
       "        vertical-align: top;\n",
       "    }\n",
       "\n",
       "    .dataframe thead th {\n",
       "        text-align: right;\n",
       "    }\n",
       "</style>\n",
       "<table border=\"1\" class=\"dataframe\">\n",
       "  <thead>\n",
       "    <tr style=\"text-align: right;\">\n",
       "      <th></th>\n",
       "      <th>v1</th>\n",
       "      <th>v2</th>\n",
       "      <th>Unnamed: 2</th>\n",
       "      <th>Unnamed: 3</th>\n",
       "      <th>Unnamed: 4</th>\n",
       "    </tr>\n",
       "  </thead>\n",
       "  <tbody>\n",
       "    <tr>\n",
       "      <th>4891</th>\n",
       "      <td>ham</td>\n",
       "      <td>Miserable. They don't tell u that the side eff...</td>\n",
       "      <td>NaN</td>\n",
       "      <td>NaN</td>\n",
       "      <td>NaN</td>\n",
       "    </tr>\n",
       "    <tr>\n",
       "      <th>4556</th>\n",
       "      <td>ham</td>\n",
       "      <td>I am in hospital da. . I will return home in e...</td>\n",
       "      <td>NaN</td>\n",
       "      <td>NaN</td>\n",
       "      <td>NaN</td>\n",
       "    </tr>\n",
       "    <tr>\n",
       "      <th>3232</th>\n",
       "      <td>ham</td>\n",
       "      <td>Height of recycling: Read twice- People spend ...</td>\n",
       "      <td>NaN</td>\n",
       "      <td>NaN</td>\n",
       "      <td>NaN</td>\n",
       "    </tr>\n",
       "    <tr>\n",
       "      <th>5490</th>\n",
       "      <td>ham</td>\n",
       "      <td>K. I will sent it again</td>\n",
       "      <td>NaN</td>\n",
       "      <td>NaN</td>\n",
       "      <td>NaN</td>\n",
       "    </tr>\n",
       "    <tr>\n",
       "      <th>73</th>\n",
       "      <td>ham</td>\n",
       "      <td>K..k:)where are you?how did you performed?</td>\n",
       "      <td>NaN</td>\n",
       "      <td>NaN</td>\n",
       "      <td>NaN</td>\n",
       "    </tr>\n",
       "  </tbody>\n",
       "</table>\n",
       "</div>"
      ],
      "text/plain": [
       "       v1                                                 v2 Unnamed: 2  \\\n",
       "4891  ham  Miserable. They don't tell u that the side eff...        NaN   \n",
       "4556  ham  I am in hospital da. . I will return home in e...        NaN   \n",
       "3232  ham  Height of recycling: Read twice- People spend ...        NaN   \n",
       "5490  ham                            K. I will sent it again        NaN   \n",
       "73    ham         K..k:)where are you?how did you performed?        NaN   \n",
       "\n",
       "     Unnamed: 3 Unnamed: 4  \n",
       "4891        NaN        NaN  \n",
       "4556        NaN        NaN  \n",
       "3232        NaN        NaN  \n",
       "5490        NaN        NaN  \n",
       "73          NaN        NaN  "
      ]
     },
     "execution_count": 5,
     "metadata": {},
     "output_type": "execute_result"
    }
   ],
   "source": [
    "df.sample(5)"
   ]
  },
  {
   "cell_type": "code",
   "execution_count": null,
   "id": "f02d7e14-17dc-473c-9f1a-563519d46ede",
   "metadata": {},
   "outputs": [],
   "source": []
  }
 ],
 "metadata": {
  "kernelspec": {
   "display_name": "Python 3 (ipykernel)",
   "language": "python",
   "name": "python3"
  },
  "language_info": {
   "codemirror_mode": {
    "name": "ipython",
    "version": 3
   },
   "file_extension": ".py",
   "mimetype": "text/x-python",
   "name": "python",
   "nbconvert_exporter": "python",
   "pygments_lexer": "ipython3",
   "version": "3.9.13"
  },
  "widgets": {
   "application/vnd.jupyter.widget-state+json": {
    "state": {},
    "version_major": 2,
    "version_minor": 0
   }
  }
 },
 "nbformat": 4,
 "nbformat_minor": 5
}
